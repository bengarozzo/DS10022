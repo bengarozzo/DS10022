{
  "cells": [
    {
      "cell_type": "markdown",
      "metadata": {
        "id": "view-in-github",
        "colab_type": "text"
      },
      "source": [
        "<a href=\"https://colab.research.google.com/github/bengarozzo/DS10022/blob/main/Copy_of_Lab_FTX.ipynb\" target=\"_parent\"><img src=\"https://colab.research.google.com/assets/colab-badge.svg\" alt=\"Open In Colab\"/></a>"
      ]
    },
    {
      "cell_type": "markdown",
      "metadata": {
        "id": "2yEePrJ-1G1Z"
      },
      "source": [
        "# DS1002 Lab 1:  FTX\n",
        "\n",
        "### Due Monday 1 April at noon\n",
        "\n",
        "In this lab you will work with a dataset, writing python to generate the deliverables specified in the cells below.\n",
        "\n",
        "> **FTX** was a cryptocurrency exchange founded by Sam Bankman-Fried that saw both a spectacular rise and collapse between 2021 and 2022. At one point it had a valuation of $32B. In November Bankman-Fried was found guilty on seven counts of fraud and conspiracy.  His sentencing hearing is today.\n",
        "\n",
        "The dataset for this assignment covers that rise and fall from the viewpoint of daily stock closing prices for FTX (ticker symbol `FTT`).\n",
        "\n",
        "Answer the questions below with the appropriate Python code.\n",
        "\n",
        "**Put code and outputs in this notebook.**\n"
      ]
    },
    {
      "cell_type": "markdown",
      "metadata": {
        "id": "acXFkytd2PWS"
      },
      "source": [
        "## Group Submissions\n",
        "\n",
        "As usual you may work in a group to complete this lab, with no more than 3 members in a group. Group members should be indicated in the cell below -- list both names and UVA computing IDs.\n",
        "\n",
        "Each student should then submit **the same URL** for the lab in Canvas. (If a group has Member1, Member2, and Member3, only one member needs to save the completed work back to GitHub and all members should submit that URL for grading.)"
      ]
    },
    {
      "cell_type": "code",
      "execution_count": null,
      "metadata": {
        "id": "4N8_o3tG232h"
      },
      "outputs": [],
      "source": [
        "# List group members (if applicable). Identify names and computing IDs\n",
        "#\n",
        "# Name                    Computing ID\n",
        "# Ben Garozzo huk5pd\n",
        "# Andrew Mcneill bpy6eb\n",
        "# William Sharfenberger wgf8gb"
      ]
    },
    {
      "cell_type": "markdown",
      "metadata": {
        "id": "w0VxTDNf1k2O"
      },
      "source": [
        "## 1. Load Libraries & Data\n",
        "\n",
        "https://s3.amazonaws.com/ds1002-resources/data/ftx-2021-01-01--2023-12-31.csv\n",
        "\n",
        "Import any necessary libraries and load the remote CSV file below into a DataFrame. **Resolve any import issues you need to.**"
      ]
    },
    {
      "cell_type": "code",
      "execution_count": 80,
      "metadata": {
        "colab": {
          "base_uri": "https://localhost:8080/"
        },
        "id": "I0B9chFD1GR0",
        "outputId": "0b8b15c7-ff30-46d6-b95a-33d73edd3548"
      },
      "outputs": [
        {
          "output_type": "stream",
          "name": "stdout",
          "text": [
            "                     timeOpen                 timeClose  \\\n",
            "0    2022-12-31T00:00:00.000Z  2022-12-31T23:59:59.999Z   \n",
            "1    2022-12-30T00:00:00.000Z  2022-12-30T23:59:59.999Z   \n",
            "2    2022-12-29T00:00:00.000Z  2022-12-29T23:59:59.999Z   \n",
            "3    2022-12-28T00:00:00.000Z  2022-12-28T23:59:59.999Z   \n",
            "4    2022-12-27T00:00:00.000Z  2022-12-27T23:59:59.999Z   \n",
            "..                        ...                       ...   \n",
            "736  2021-01-06T00:00:00.000Z  2021-01-06T23:59:59.999Z   \n",
            "737  2021-01-05T00:00:00.000Z  2021-01-05T23:59:59.999Z   \n",
            "738  2021-01-04T00:00:00.000Z  2021-01-04T23:59:59.999Z   \n",
            "739  2021-01-03T00:00:00.000Z  2021-01-03T23:59:59.999Z   \n",
            "740  2021-01-03T00:00:00.000Z  2021-01-03T23:59:59.999Z   \n",
            "\n",
            "                     timeHigh                   timeLow      open      high  \\\n",
            "0    2022-12-31T15:23:00.000Z  2022-12-31T00:21:00.000Z  0.838968  0.853502   \n",
            "1    2022-12-30T04:22:00.000Z  2022-12-30T15:12:00.000Z  0.860193  0.864752   \n",
            "2    2022-12-29T00:49:00.000Z  2022-12-29T21:03:00.000Z  0.885723  0.887118   \n",
            "3    2022-12-28T00:20:00.000Z  2022-12-28T10:44:00.000Z  0.921162  0.925702   \n",
            "4    2022-12-27T14:19:00.000Z  2022-12-27T19:12:00.000Z  0.931138  0.955402   \n",
            "..                        ...                       ...       ...       ...   \n",
            "736  2021-01-06T23:59:03.000Z  2021-01-06T01:41:03.000Z  8.671285  9.390797   \n",
            "737  2021-01-05T22:44:03.000Z  2021-01-05T06:19:03.000Z  7.528216  8.714947   \n",
            "738  2021-01-04T06:40:03.000Z  2021-01-04T10:18:03.000Z  6.948680  7.632146   \n",
            "739  2021-01-03T16:25:03.000Z  2021-01-03T00:25:03.000Z  6.201133  7.007523   \n",
            "740  2021-01-03T16:25:03.000Z  2021-01-03T00:25:03.000Z  6.201133  7.007523   \n",
            "\n",
            "          low     close       volume     marketCap                 timestamp  \n",
            "0    0.835226  0.842688   3001502.06  2.771561e+08  2022-12-31T23:59:59.999Z  \n",
            "1    0.826643  0.839048   3608615.07  2.759588e+08  2022-12-30T23:59:59.999Z  \n",
            "2    0.843029  0.860231   3766979.57  2.829258e+08  2022-12-29T23:59:59.999Z  \n",
            "3    0.869842  0.886091   4192949.85  2.914310e+08  2022-12-28T23:59:59.999Z  \n",
            "4    0.916414  0.923668   4574953.05  3.037898e+08  2022-12-27T23:59:59.999Z  \n",
            "..        ...       ...          ...           ...                       ...  \n",
            "736  8.425946  9.390797  31404627.93  8.859932e+08  2021-01-06T23:59:59.999Z  \n",
            "737  7.081120  8.664688  49479278.39  8.174869e+08  2021-01-05T23:59:59.999Z  \n",
            "738  6.358218  7.514079  40526109.15  7.089305e+08  2021-01-04T23:59:59.999Z  \n",
            "739  6.171834  6.923968  31046652.87  6.532553e+08  2021-01-03T23:59:59.999Z  \n",
            "740  6.171834  6.923968  31046652.87  6.532553e+08  2021-01-03T23:59:59.999Z  \n",
            "\n",
            "[741 rows x 11 columns]\n"
          ]
        }
      ],
      "source": [
        "import numpy as np\n",
        "import pandas as pd\n",
        "data = pd.read_csv('/content/sample_data/ftx-2021-01-01--2023-12-31 (3).csv')\n",
        "print(data)\n",
        "\n"
      ]
    },
    {
      "cell_type": "markdown",
      "metadata": {
        "id": "H389W9dkobGI"
      },
      "source": [
        "## 2. Get Summary Data"
      ]
    },
    {
      "cell_type": "markdown",
      "metadata": {
        "id": "KA0wbjmE-4Q9"
      },
      "source": [
        "In code, display how many rows and columns are in the raw dataset."
      ]
    },
    {
      "cell_type": "code",
      "execution_count": 83,
      "metadata": {
        "colab": {
          "base_uri": "https://localhost:8080/"
        },
        "id": "XhULtu7qox-p",
        "outputId": "3955317b-a669-41c1-b9e3-c018f32b969c"
      },
      "outputs": [
        {
          "output_type": "execute_result",
          "data": {
            "text/plain": [
              "(741, 11)"
            ]
          },
          "metadata": {},
          "execution_count": 83
        }
      ],
      "source": [
        "rows_columns = data.shape\n",
        "rows_columns"
      ]
    },
    {
      "cell_type": "markdown",
      "metadata": {
        "id": "abshX7QeooAs"
      },
      "source": [
        "## 3. Clean and Organize the Data\n",
        "\n",
        "Check for data quality.\n",
        "\n",
        "- Resolve any empty values or duplicate rows.\n",
        "- Order the data properly if necessary.\n",
        "- Drop the following columns and save the dataframe: `timeOpen`, `timeClose`, `timeHigh`, `timeLow`, `marketCap`\n",
        "\n"
      ]
    },
    {
      "cell_type": "code",
      "execution_count": 99,
      "metadata": {
        "id": "Aq3J7yD82uwW"
      },
      "outputs": [],
      "source": [
        "\n",
        "new_data=data.drop_duplicates()\n",
        "new_data.dropna()\n",
        "\n",
        "new_data2=new_data.drop(['timeOpen', 'timeClose', 'timeHigh', 'timeLow', 'marketCap'], axis=1)\n",
        "new_data3=new_data2.sort_values(by='timestamp', ascending= True)"
      ]
    },
    {
      "cell_type": "markdown",
      "metadata": {
        "id": "Ccwu8bUx_Azj"
      },
      "source": [
        "Now display the first 10 rows of the cleaned dataset."
      ]
    },
    {
      "cell_type": "code",
      "execution_count": 100,
      "metadata": {
        "colab": {
          "base_uri": "https://localhost:8080/",
          "height": 363
        },
        "id": "1iVIskCs_Ewe",
        "outputId": "076f7cdb-6496-485b-98c6-b36c3e67e26d"
      },
      "outputs": [
        {
          "output_type": "execute_result",
          "data": {
            "text/plain": [
              "         open       high       low     close        volume  \\\n",
              "739  6.201133   7.007523  6.171834  6.923968  3.104665e+07   \n",
              "738  6.948680   7.632146  6.358218  7.514079  4.052611e+07   \n",
              "737  7.528216   8.714947  7.081120  8.664688  4.947928e+07   \n",
              "736  8.671285   9.390797  8.425946  9.390797  3.140463e+07   \n",
              "735  9.386493  10.004872  9.215244  9.562131  4.630334e+07   \n",
              "734  9.569239   9.726429  8.452265  9.380988  4.228627e+07   \n",
              "733  9.370450   9.636120  8.728044  9.570511  2.849895e+07   \n",
              "732  9.571917   9.944797  8.657147  9.308809  3.101239e+07   \n",
              "731  9.298315   9.298315  7.126050  8.610997  1.013024e+08   \n",
              "730  8.615143   9.097479  8.040916  8.381133  2.674536e+07   \n",
              "\n",
              "                    timestamp  \n",
              "739  2021-01-03T23:59:59.999Z  \n",
              "738  2021-01-04T23:59:59.999Z  \n",
              "737  2021-01-05T23:59:59.999Z  \n",
              "736  2021-01-06T23:59:59.999Z  \n",
              "735  2021-01-07T23:59:59.999Z  \n",
              "734  2021-01-08T23:59:59.999Z  \n",
              "733  2021-01-09T23:59:59.999Z  \n",
              "732  2021-01-10T23:59:59.999Z  \n",
              "731  2021-01-11T23:59:59.999Z  \n",
              "730  2021-01-12T23:59:59.999Z  "
            ],
            "text/html": [
              "\n",
              "  <div id=\"df-ff307cfc-2942-47ca-8e98-c795f82da169\" class=\"colab-df-container\">\n",
              "    <div>\n",
              "<style scoped>\n",
              "    .dataframe tbody tr th:only-of-type {\n",
              "        vertical-align: middle;\n",
              "    }\n",
              "\n",
              "    .dataframe tbody tr th {\n",
              "        vertical-align: top;\n",
              "    }\n",
              "\n",
              "    .dataframe thead th {\n",
              "        text-align: right;\n",
              "    }\n",
              "</style>\n",
              "<table border=\"1\" class=\"dataframe\">\n",
              "  <thead>\n",
              "    <tr style=\"text-align: right;\">\n",
              "      <th></th>\n",
              "      <th>open</th>\n",
              "      <th>high</th>\n",
              "      <th>low</th>\n",
              "      <th>close</th>\n",
              "      <th>volume</th>\n",
              "      <th>timestamp</th>\n",
              "    </tr>\n",
              "  </thead>\n",
              "  <tbody>\n",
              "    <tr>\n",
              "      <th>739</th>\n",
              "      <td>6.201133</td>\n",
              "      <td>7.007523</td>\n",
              "      <td>6.171834</td>\n",
              "      <td>6.923968</td>\n",
              "      <td>3.104665e+07</td>\n",
              "      <td>2021-01-03T23:59:59.999Z</td>\n",
              "    </tr>\n",
              "    <tr>\n",
              "      <th>738</th>\n",
              "      <td>6.948680</td>\n",
              "      <td>7.632146</td>\n",
              "      <td>6.358218</td>\n",
              "      <td>7.514079</td>\n",
              "      <td>4.052611e+07</td>\n",
              "      <td>2021-01-04T23:59:59.999Z</td>\n",
              "    </tr>\n",
              "    <tr>\n",
              "      <th>737</th>\n",
              "      <td>7.528216</td>\n",
              "      <td>8.714947</td>\n",
              "      <td>7.081120</td>\n",
              "      <td>8.664688</td>\n",
              "      <td>4.947928e+07</td>\n",
              "      <td>2021-01-05T23:59:59.999Z</td>\n",
              "    </tr>\n",
              "    <tr>\n",
              "      <th>736</th>\n",
              "      <td>8.671285</td>\n",
              "      <td>9.390797</td>\n",
              "      <td>8.425946</td>\n",
              "      <td>9.390797</td>\n",
              "      <td>3.140463e+07</td>\n",
              "      <td>2021-01-06T23:59:59.999Z</td>\n",
              "    </tr>\n",
              "    <tr>\n",
              "      <th>735</th>\n",
              "      <td>9.386493</td>\n",
              "      <td>10.004872</td>\n",
              "      <td>9.215244</td>\n",
              "      <td>9.562131</td>\n",
              "      <td>4.630334e+07</td>\n",
              "      <td>2021-01-07T23:59:59.999Z</td>\n",
              "    </tr>\n",
              "    <tr>\n",
              "      <th>734</th>\n",
              "      <td>9.569239</td>\n",
              "      <td>9.726429</td>\n",
              "      <td>8.452265</td>\n",
              "      <td>9.380988</td>\n",
              "      <td>4.228627e+07</td>\n",
              "      <td>2021-01-08T23:59:59.999Z</td>\n",
              "    </tr>\n",
              "    <tr>\n",
              "      <th>733</th>\n",
              "      <td>9.370450</td>\n",
              "      <td>9.636120</td>\n",
              "      <td>8.728044</td>\n",
              "      <td>9.570511</td>\n",
              "      <td>2.849895e+07</td>\n",
              "      <td>2021-01-09T23:59:59.999Z</td>\n",
              "    </tr>\n",
              "    <tr>\n",
              "      <th>732</th>\n",
              "      <td>9.571917</td>\n",
              "      <td>9.944797</td>\n",
              "      <td>8.657147</td>\n",
              "      <td>9.308809</td>\n",
              "      <td>3.101239e+07</td>\n",
              "      <td>2021-01-10T23:59:59.999Z</td>\n",
              "    </tr>\n",
              "    <tr>\n",
              "      <th>731</th>\n",
              "      <td>9.298315</td>\n",
              "      <td>9.298315</td>\n",
              "      <td>7.126050</td>\n",
              "      <td>8.610997</td>\n",
              "      <td>1.013024e+08</td>\n",
              "      <td>2021-01-11T23:59:59.999Z</td>\n",
              "    </tr>\n",
              "    <tr>\n",
              "      <th>730</th>\n",
              "      <td>8.615143</td>\n",
              "      <td>9.097479</td>\n",
              "      <td>8.040916</td>\n",
              "      <td>8.381133</td>\n",
              "      <td>2.674536e+07</td>\n",
              "      <td>2021-01-12T23:59:59.999Z</td>\n",
              "    </tr>\n",
              "  </tbody>\n",
              "</table>\n",
              "</div>\n",
              "    <div class=\"colab-df-buttons\">\n",
              "\n",
              "  <div class=\"colab-df-container\">\n",
              "    <button class=\"colab-df-convert\" onclick=\"convertToInteractive('df-ff307cfc-2942-47ca-8e98-c795f82da169')\"\n",
              "            title=\"Convert this dataframe to an interactive table.\"\n",
              "            style=\"display:none;\">\n",
              "\n",
              "  <svg xmlns=\"http://www.w3.org/2000/svg\" height=\"24px\" viewBox=\"0 -960 960 960\">\n",
              "    <path d=\"M120-120v-720h720v720H120Zm60-500h600v-160H180v160Zm220 220h160v-160H400v160Zm0 220h160v-160H400v160ZM180-400h160v-160H180v160Zm440 0h160v-160H620v160ZM180-180h160v-160H180v160Zm440 0h160v-160H620v160Z\"/>\n",
              "  </svg>\n",
              "    </button>\n",
              "\n",
              "  <style>\n",
              "    .colab-df-container {\n",
              "      display:flex;\n",
              "      gap: 12px;\n",
              "    }\n",
              "\n",
              "    .colab-df-convert {\n",
              "      background-color: #E8F0FE;\n",
              "      border: none;\n",
              "      border-radius: 50%;\n",
              "      cursor: pointer;\n",
              "      display: none;\n",
              "      fill: #1967D2;\n",
              "      height: 32px;\n",
              "      padding: 0 0 0 0;\n",
              "      width: 32px;\n",
              "    }\n",
              "\n",
              "    .colab-df-convert:hover {\n",
              "      background-color: #E2EBFA;\n",
              "      box-shadow: 0px 1px 2px rgba(60, 64, 67, 0.3), 0px 1px 3px 1px rgba(60, 64, 67, 0.15);\n",
              "      fill: #174EA6;\n",
              "    }\n",
              "\n",
              "    .colab-df-buttons div {\n",
              "      margin-bottom: 4px;\n",
              "    }\n",
              "\n",
              "    [theme=dark] .colab-df-convert {\n",
              "      background-color: #3B4455;\n",
              "      fill: #D2E3FC;\n",
              "    }\n",
              "\n",
              "    [theme=dark] .colab-df-convert:hover {\n",
              "      background-color: #434B5C;\n",
              "      box-shadow: 0px 1px 3px 1px rgba(0, 0, 0, 0.15);\n",
              "      filter: drop-shadow(0px 1px 2px rgba(0, 0, 0, 0.3));\n",
              "      fill: #FFFFFF;\n",
              "    }\n",
              "  </style>\n",
              "\n",
              "    <script>\n",
              "      const buttonEl =\n",
              "        document.querySelector('#df-ff307cfc-2942-47ca-8e98-c795f82da169 button.colab-df-convert');\n",
              "      buttonEl.style.display =\n",
              "        google.colab.kernel.accessAllowed ? 'block' : 'none';\n",
              "\n",
              "      async function convertToInteractive(key) {\n",
              "        const element = document.querySelector('#df-ff307cfc-2942-47ca-8e98-c795f82da169');\n",
              "        const dataTable =\n",
              "          await google.colab.kernel.invokeFunction('convertToInteractive',\n",
              "                                                    [key], {});\n",
              "        if (!dataTable) return;\n",
              "\n",
              "        const docLinkHtml = 'Like what you see? Visit the ' +\n",
              "          '<a target=\"_blank\" href=https://colab.research.google.com/notebooks/data_table.ipynb>data table notebook</a>'\n",
              "          + ' to learn more about interactive tables.';\n",
              "        element.innerHTML = '';\n",
              "        dataTable['output_type'] = 'display_data';\n",
              "        await google.colab.output.renderOutput(dataTable, element);\n",
              "        const docLink = document.createElement('div');\n",
              "        docLink.innerHTML = docLinkHtml;\n",
              "        element.appendChild(docLink);\n",
              "      }\n",
              "    </script>\n",
              "  </div>\n",
              "\n",
              "\n",
              "<div id=\"df-3570b450-8555-4fb6-9668-06512b9cc0f8\">\n",
              "  <button class=\"colab-df-quickchart\" onclick=\"quickchart('df-3570b450-8555-4fb6-9668-06512b9cc0f8')\"\n",
              "            title=\"Suggest charts\"\n",
              "            style=\"display:none;\">\n",
              "\n",
              "<svg xmlns=\"http://www.w3.org/2000/svg\" height=\"24px\"viewBox=\"0 0 24 24\"\n",
              "     width=\"24px\">\n",
              "    <g>\n",
              "        <path d=\"M19 3H5c-1.1 0-2 .9-2 2v14c0 1.1.9 2 2 2h14c1.1 0 2-.9 2-2V5c0-1.1-.9-2-2-2zM9 17H7v-7h2v7zm4 0h-2V7h2v10zm4 0h-2v-4h2v4z\"/>\n",
              "    </g>\n",
              "</svg>\n",
              "  </button>\n",
              "\n",
              "<style>\n",
              "  .colab-df-quickchart {\n",
              "      --bg-color: #E8F0FE;\n",
              "      --fill-color: #1967D2;\n",
              "      --hover-bg-color: #E2EBFA;\n",
              "      --hover-fill-color: #174EA6;\n",
              "      --disabled-fill-color: #AAA;\n",
              "      --disabled-bg-color: #DDD;\n",
              "  }\n",
              "\n",
              "  [theme=dark] .colab-df-quickchart {\n",
              "      --bg-color: #3B4455;\n",
              "      --fill-color: #D2E3FC;\n",
              "      --hover-bg-color: #434B5C;\n",
              "      --hover-fill-color: #FFFFFF;\n",
              "      --disabled-bg-color: #3B4455;\n",
              "      --disabled-fill-color: #666;\n",
              "  }\n",
              "\n",
              "  .colab-df-quickchart {\n",
              "    background-color: var(--bg-color);\n",
              "    border: none;\n",
              "    border-radius: 50%;\n",
              "    cursor: pointer;\n",
              "    display: none;\n",
              "    fill: var(--fill-color);\n",
              "    height: 32px;\n",
              "    padding: 0;\n",
              "    width: 32px;\n",
              "  }\n",
              "\n",
              "  .colab-df-quickchart:hover {\n",
              "    background-color: var(--hover-bg-color);\n",
              "    box-shadow: 0 1px 2px rgba(60, 64, 67, 0.3), 0 1px 3px 1px rgba(60, 64, 67, 0.15);\n",
              "    fill: var(--button-hover-fill-color);\n",
              "  }\n",
              "\n",
              "  .colab-df-quickchart-complete:disabled,\n",
              "  .colab-df-quickchart-complete:disabled:hover {\n",
              "    background-color: var(--disabled-bg-color);\n",
              "    fill: var(--disabled-fill-color);\n",
              "    box-shadow: none;\n",
              "  }\n",
              "\n",
              "  .colab-df-spinner {\n",
              "    border: 2px solid var(--fill-color);\n",
              "    border-color: transparent;\n",
              "    border-bottom-color: var(--fill-color);\n",
              "    animation:\n",
              "      spin 1s steps(1) infinite;\n",
              "  }\n",
              "\n",
              "  @keyframes spin {\n",
              "    0% {\n",
              "      border-color: transparent;\n",
              "      border-bottom-color: var(--fill-color);\n",
              "      border-left-color: var(--fill-color);\n",
              "    }\n",
              "    20% {\n",
              "      border-color: transparent;\n",
              "      border-left-color: var(--fill-color);\n",
              "      border-top-color: var(--fill-color);\n",
              "    }\n",
              "    30% {\n",
              "      border-color: transparent;\n",
              "      border-left-color: var(--fill-color);\n",
              "      border-top-color: var(--fill-color);\n",
              "      border-right-color: var(--fill-color);\n",
              "    }\n",
              "    40% {\n",
              "      border-color: transparent;\n",
              "      border-right-color: var(--fill-color);\n",
              "      border-top-color: var(--fill-color);\n",
              "    }\n",
              "    60% {\n",
              "      border-color: transparent;\n",
              "      border-right-color: var(--fill-color);\n",
              "    }\n",
              "    80% {\n",
              "      border-color: transparent;\n",
              "      border-right-color: var(--fill-color);\n",
              "      border-bottom-color: var(--fill-color);\n",
              "    }\n",
              "    90% {\n",
              "      border-color: transparent;\n",
              "      border-bottom-color: var(--fill-color);\n",
              "    }\n",
              "  }\n",
              "</style>\n",
              "\n",
              "  <script>\n",
              "    async function quickchart(key) {\n",
              "      const quickchartButtonEl =\n",
              "        document.querySelector('#' + key + ' button');\n",
              "      quickchartButtonEl.disabled = true;  // To prevent multiple clicks.\n",
              "      quickchartButtonEl.classList.add('colab-df-spinner');\n",
              "      try {\n",
              "        const charts = await google.colab.kernel.invokeFunction(\n",
              "            'suggestCharts', [key], {});\n",
              "      } catch (error) {\n",
              "        console.error('Error during call to suggestCharts:', error);\n",
              "      }\n",
              "      quickchartButtonEl.classList.remove('colab-df-spinner');\n",
              "      quickchartButtonEl.classList.add('colab-df-quickchart-complete');\n",
              "    }\n",
              "    (() => {\n",
              "      let quickchartButtonEl =\n",
              "        document.querySelector('#df-3570b450-8555-4fb6-9668-06512b9cc0f8 button');\n",
              "      quickchartButtonEl.style.display =\n",
              "        google.colab.kernel.accessAllowed ? 'block' : 'none';\n",
              "    })();\n",
              "  </script>\n",
              "</div>\n",
              "\n",
              "    </div>\n",
              "  </div>\n"
            ],
            "application/vnd.google.colaboratory.intrinsic+json": {
              "type": "dataframe",
              "variable_name": "new_data3",
              "summary": "{\n  \"name\": \"new_data3\",\n  \"rows\": 727,\n  \"fields\": [\n    {\n      \"column\": \"open\",\n      \"properties\": {\n        \"dtype\": \"number\",\n        \"std\": 16.1035338133042,\n        \"min\": 0.8389684425,\n        \"max\": 79.52836962,\n        \"num_unique_values\": 727,\n        \"samples\": [\n          28.9563167953,\n          1.3157512367,\n          46.0596495217\n        ],\n        \"semantic_type\": \"\",\n        \"description\": \"\"\n      }\n    },\n    {\n      \"column\": \"high\",\n      \"properties\": {\n        \"dtype\": \"number\",\n        \"std\": 16.78796574913453,\n        \"min\": 0.853501666,\n        \"max\": 85.0168524,\n        \"num_unique_values\": 727,\n        \"samples\": [\n          29.0913360636,\n          1.3293454362,\n          46.5800480101\n        ],\n        \"semantic_type\": \"\",\n        \"description\": \"\"\n      }\n    },\n    {\n      \"column\": \"low\",\n      \"properties\": {\n        \"dtype\": \"number\",\n        \"std\": 15.450005209358025,\n        \"min\": 0.8266428992,\n        \"max\": 71.9259352,\n        \"num_unique_values\": 727,\n        \"samples\": [\n          26.603364667,\n          1.2819613781,\n          45.289783057\n        ],\n        \"semantic_type\": \"\",\n        \"description\": \"\"\n      }\n    },\n    {\n      \"column\": \"close\",\n      \"properties\": {\n        \"dtype\": \"number\",\n        \"std\": 16.110665264905244,\n        \"min\": 0.8390481756,\n        \"max\": 79.87131341,\n        \"num_unique_values\": 727,\n        \"samples\": [\n          26.9054856794,\n          1.2950926908,\n          46.4249926227\n        ],\n        \"semantic_type\": \"\",\n        \"description\": \"\"\n      }\n    },\n    {\n      \"column\": \"volume\",\n      \"properties\": {\n        \"dtype\": \"number\",\n        \"std\": 334134232.9378182,\n        \"min\": 2577834.83,\n        \"max\": 3919748072.71,\n        \"num_unique_values\": 727,\n        \"samples\": [\n          74761383.79,\n          6250101.62,\n          203763296.77\n        ],\n        \"semantic_type\": \"\",\n        \"description\": \"\"\n      }\n    },\n    {\n      \"column\": \"timestamp\",\n      \"properties\": {\n        \"dtype\": \"object\",\n        \"num_unique_values\": 727,\n        \"samples\": [\n          \"2022-06-01T23:59:59.999Z\",\n          \"2022-11-28T23:59:59.999Z\",\n          \"2022-01-16T23:59:59.999Z\"\n        ],\n        \"semantic_type\": \"\",\n        \"description\": \"\"\n      }\n    }\n  ]\n}"
            }
          },
          "metadata": {},
          "execution_count": 100
        }
      ],
      "source": [
        "new_data3.head(10)"
      ]
    },
    {
      "cell_type": "markdown",
      "metadata": {
        "id": "3-4dd8nsr_zF"
      },
      "source": [
        "## 4. Calculate Daily Gains/Losses"
      ]
    },
    {
      "cell_type": "markdown",
      "metadata": {
        "id": "HrGLlM83vH0c"
      },
      "source": [
        "Using Pandas, add a new column named `[\"close_change\"]` to the dataframe that calculates the difference between daily closing prices for FTX. This will result in positive (growth) and negative (loss) values.\n",
        "\n",
        "Note:\n",
        "- Be careful about how you calculate this. Each row should calculate that difference from the row above it, which must be the previous calendar day.\n",
        "- Hint: This is not complicated and does not require a for-loop.  See the Pandas review notebook for reference."
      ]
    },
    {
      "cell_type": "code",
      "execution_count": 102,
      "metadata": {
        "colab": {
          "base_uri": "https://localhost:8080/"
        },
        "id": "7P8J0jEtvCiv",
        "outputId": "d1a13629-75bd-4a19-b87f-ae2ce8d4b391"
      },
      "outputs": [
        {
          "output_type": "stream",
          "name": "stdout",
          "text": [
            "         open       high       low     close       volume  \\\n",
            "739  6.201133   7.007523  6.171834  6.923968  31046652.87   \n",
            "738  6.948680   7.632146  6.358218  7.514079  40526109.15   \n",
            "737  7.528216   8.714947  7.081120  8.664688  49479278.39   \n",
            "736  8.671285   9.390797  8.425946  9.390797  31404627.93   \n",
            "735  9.386493  10.004872  9.215244  9.562131  46303336.73   \n",
            "..        ...        ...       ...       ...          ...   \n",
            "4    0.931138   0.955402  0.916414  0.923668   4574953.05   \n",
            "3    0.921162   0.925702  0.869842  0.886091   4192949.85   \n",
            "2    0.885723   0.887118  0.843029  0.860231   3766979.57   \n",
            "1    0.860193   0.864752  0.826643  0.839048   3608615.07   \n",
            "0    0.838968   0.853502  0.835226  0.842688   3001502.06   \n",
            "\n",
            "                    timestamp  close_change  \n",
            "739  2021-01-03T23:59:59.999Z           NaN  \n",
            "738  2021-01-04T23:59:59.999Z      0.590111  \n",
            "737  2021-01-05T23:59:59.999Z      1.150608  \n",
            "736  2021-01-06T23:59:59.999Z      0.726110  \n",
            "735  2021-01-07T23:59:59.999Z      0.171334  \n",
            "..                        ...           ...  \n",
            "4    2022-12-27T23:59:59.999Z     -0.007028  \n",
            "3    2022-12-28T23:59:59.999Z     -0.037577  \n",
            "2    2022-12-29T23:59:59.999Z     -0.025860  \n",
            "1    2022-12-30T23:59:59.999Z     -0.021183  \n",
            "0    2022-12-31T23:59:59.999Z      0.003640  \n",
            "\n",
            "[727 rows x 7 columns]\n"
          ]
        }
      ],
      "source": [
        "new_data3['close_change'] = new_data3['close'].diff()\n",
        "print(new_data3)\n"
      ]
    },
    {
      "cell_type": "markdown",
      "metadata": {
        "id": "KKg8d9RDyeDa"
      },
      "source": [
        "## 5. Identify Growth Days"
      ]
    },
    {
      "cell_type": "markdown",
      "metadata": {
        "id": "5kKBo3_sykGD"
      },
      "source": [
        "Based on the daily change in closing prices calculated above, identify the top 10 days of positive growth for FTX.\n",
        "\n",
        "Display your results in a table showing both the rate of change and their dates."
      ]
    },
    {
      "cell_type": "code",
      "execution_count": 106,
      "metadata": {
        "id": "xRlliRMY2_-c",
        "colab": {
          "base_uri": "https://localhost:8080/"
        },
        "outputId": "31306b3e-f991-44ad-fa4f-dc1257482936"
      },
      "outputs": [
        {
          "output_type": "stream",
          "name": "stdout",
          "text": [
            "                    timestamp  close_change\n",
            "492  2021-09-01T23:59:59.999Z     16.677156\n",
            "487  2021-09-06T23:59:59.999Z      9.800320\n",
            "692  2021-02-19T23:59:59.999Z      8.335900\n",
            "592  2021-05-24T23:59:59.999Z      6.333923\n",
            "673  2021-03-09T23:59:59.999Z      5.529699\n",
            "515  2021-08-09T23:59:59.999Z      5.325192\n",
            "485  2021-09-08T23:59:59.999Z      5.239728\n",
            "625  2021-04-26T23:59:59.999Z      4.504385\n",
            "611  2021-05-05T23:59:59.999Z      4.488174\n",
            "311  2022-02-28T23:59:59.999Z      4.401841\n"
          ]
        }
      ],
      "source": [
        "top_10 = new_data3.nlargest(10, 'close_change')\n",
        "top_10 = top_10[['timestamp','close_change']]\n",
        "print(top_10)"
      ]
    },
    {
      "cell_type": "markdown",
      "metadata": {
        "id": "Y3AmR3eDxgfb"
      },
      "source": [
        "## 6. Calculate the Percentage Rate of Change"
      ]
    },
    {
      "cell_type": "markdown",
      "metadata": {
        "id": "XK3yweENxjdn"
      },
      "source": [
        "Next, create a new column named `[\"rate_of_change\"]` based on `[\"close_change\"]`.\n",
        "\n",
        "Use the Pandas Review notebook for reference. Again, this is an easy operation in Pandas and does not require a for-loop."
      ]
    },
    {
      "cell_type": "code",
      "execution_count": 108,
      "metadata": {
        "id": "FqL5yyvi6w7r",
        "colab": {
          "base_uri": "https://localhost:8080/"
        },
        "outputId": "ee389b2f-92b0-4dc5-c79f-ac70c3c381ef"
      },
      "outputs": [
        {
          "output_type": "stream",
          "name": "stdout",
          "text": [
            "         open       high       low     close       volume  \\\n",
            "739  6.201133   7.007523  6.171834  6.923968  31046652.87   \n",
            "738  6.948680   7.632146  6.358218  7.514079  40526109.15   \n",
            "737  7.528216   8.714947  7.081120  8.664688  49479278.39   \n",
            "736  8.671285   9.390797  8.425946  9.390797  31404627.93   \n",
            "735  9.386493  10.004872  9.215244  9.562131  46303336.73   \n",
            "..        ...        ...       ...       ...          ...   \n",
            "4    0.931138   0.955402  0.916414  0.923668   4574953.05   \n",
            "3    0.921162   0.925702  0.869842  0.886091   4192949.85   \n",
            "2    0.885723   0.887118  0.843029  0.860231   3766979.57   \n",
            "1    0.860193   0.864752  0.826643  0.839048   3608615.07   \n",
            "0    0.838968   0.853502  0.835226  0.842688   3001502.06   \n",
            "\n",
            "                    timestamp  close_change  rate_of_change  \n",
            "739  2021-01-03T23:59:59.999Z           NaN             NaN  \n",
            "738  2021-01-04T23:59:59.999Z      0.590111             NaN  \n",
            "737  2021-01-05T23:59:59.999Z      1.150608        0.949817  \n",
            "736  2021-01-06T23:59:59.999Z      0.726110       -0.368934  \n",
            "735  2021-01-07T23:59:59.999Z      0.171334       -0.764039  \n",
            "..                        ...           ...             ...  \n",
            "4    2022-12-27T23:59:59.999Z     -0.007028       -1.195015  \n",
            "3    2022-12-28T23:59:59.999Z     -0.037577        4.346593  \n",
            "2    2022-12-29T23:59:59.999Z     -0.025860       -0.311817  \n",
            "1    2022-12-30T23:59:59.999Z     -0.021183       -0.180850  \n",
            "0    2022-12-31T23:59:59.999Z      0.003640       -1.171848  \n",
            "\n",
            "[727 rows x 8 columns]\n"
          ]
        }
      ],
      "source": [
        "new_data3[\"rate_of_change\"] = new_data3[\"close_change\"].pct_change()\n",
        "print(new_data3)"
      ]
    },
    {
      "cell_type": "markdown",
      "metadata": {
        "id": "2ifRW8qU3OOB"
      },
      "source": [
        "## 7. Identify Days of Greatest Percentage Change"
      ]
    },
    {
      "cell_type": "markdown",
      "metadata": {
        "id": "ISZf2C1j3bAA"
      },
      "source": [
        "Based on the rate change column calculated above, identify the top 5 days of greatest positive rate change, and the top 5 days of greatest negative rate change.\n",
        "\n",
        "Display your results in a table showing both the rate of change and their dates."
      ]
    },
    {
      "cell_type": "code",
      "execution_count": 110,
      "metadata": {
        "id": "sGlUUWFxfS2w",
        "colab": {
          "base_uri": "https://localhost:8080/"
        },
        "outputId": "8d7c568d-60a3-4f34-b2e5-3a01ad4bf2ff"
      },
      "outputs": [
        {
          "output_type": "stream",
          "name": "stdout",
          "text": [
            "                    timestamp  rate_of_change\n",
            "372  2021-12-28T23:59:59.999Z      612.326740\n",
            "55   2022-11-08T23:59:59.999Z      129.835551\n",
            "236  2022-05-13T23:59:59.999Z      117.908853\n",
            "308  2022-03-03T23:59:59.999Z       92.537644\n",
            "513  2021-08-11T23:59:59.999Z       65.569141\n"
          ]
        }
      ],
      "source": [
        "top_5 = new_data3.nlargest(5, 'rate_of_change')\n",
        "top_5 = top_5[['timestamp','rate_of_change']]\n",
        "print(top_5)"
      ]
    },
    {
      "cell_type": "markdown",
      "metadata": {
        "id": "2B9dxJbno0s0"
      },
      "source": [
        "## 8. Plot the Data"
      ]
    },
    {
      "cell_type": "markdown",
      "metadata": {
        "id": "LwMrL6-AplCH"
      },
      "source": [
        "Create two separate plots of the data -- one for the daily closing price and one for the daily gains/losses. These can be histograms or line plots."
      ]
    },
    {
      "cell_type": "code",
      "execution_count": 115,
      "metadata": {
        "id": "R0vq1cLRB0Kl",
        "colab": {
          "base_uri": "https://localhost:8080/",
          "height": 490
        },
        "outputId": "1859e19d-cb33-4533-8fd0-fce8c8b5c03a"
      },
      "outputs": [
        {
          "output_type": "execute_result",
          "data": {
            "text/plain": [
              "Text(0.5, 1.0, 'Daily Closing Price')"
            ]
          },
          "metadata": {},
          "execution_count": 115
        },
        {
          "output_type": "display_data",
          "data": {
            "text/plain": [
              "<Figure size 640x480 with 1 Axes>"
            ],
            "image/png": "[encoded data removed]"
          },
          "metadata": {}
        }
      ],
      "source": [
        "import matplotlib.pyplot as plt\n",
        "x=new_data3['timestamp']\n",
        "y=new_data3['close']\n",
        "plt.plot(x, y)\n",
        "plt.xlabel(\"Time Stamp\")\n",
        "plt.ylabel(\"Closing Price\")\n",
        "plt.title(\"Daily Closing Price\")\n",
        "\n",
        "\n"
      ]
    },
    {
      "cell_type": "code",
      "source": [
        "import matplotlib.pyplot as plt\n",
        "x1=new_data3['timestamp']\n",
        "y1=new_data3['close_change']\n",
        "plt.plot(x1, y1)\n",
        "plt.xlabel(\"Time Stamp\")\n",
        "plt.ylabel(\"Difference in Price\")\n",
        "plt.title(\"Daily Gains/Loses\")"
      ],
      "metadata": {
        "colab": {
          "base_uri": "https://localhost:8080/",
          "height": 490
        },
        "id": "eYwGqyJYtmEn",
        "outputId": "d934fd7f-6613-4ac4-9495-9f0bcf2496e7"
      },
      "execution_count": 116,
      "outputs": [
        {
          "output_type": "execute_result",
          "data": {
            "text/plain": [
              "Text(0.5, 1.0, 'Daily Gains/Loses')"
            ]
          },
          "metadata": {},
          "execution_count": 116
        },
        {
          "output_type": "display_data",
          "data": {
            "text/plain": [
              "<Figure size 640x480 with 1 Axes>"
            ],
            "image/png": "[encoded data removed]"
          },
          "metadata": {}
        }
      ]
    },
    {
      "cell_type": "markdown",
      "metadata": {
        "id": "xRT2iFAI5s4S"
      },
      "source": [
        "Combine the two plots from above into a single plot, displaying both together. Your plot should have two Y-axis scales, should differentiate the two values by color, and should include a legend."
      ]
    },
    {
      "cell_type": "code",
      "execution_count": 123,
      "metadata": {
        "id": "epypcCLc6QxL",
        "colab": {
          "base_uri": "https://localhost:8080/",
          "height": 490
        },
        "outputId": "9988a76f-75cf-4f39-8b76-c731793c0299"
      },
      "outputs": [
        {
          "output_type": "execute_result",
          "data": {
            "text/plain": [
              "Text(0.5, 1.0, 'Daily Closing Price in comparison to Difference in Price')"
            ]
          },
          "metadata": {},
          "execution_count": 123
        },
        {
          "output_type": "display_data",
          "data": {
            "text/plain": [
              "<Figure size 640x480 with 1 Axes>"
            ],
            "image/png": "[encoded data removed]"
          },
          "metadata": {}
        }
      ],
      "source": [
        "import matplotlib.pyplot as plt\n",
        "x2=new_data3['timestamp']\n",
        "y2=new_data3['close_change']\n",
        "y3=new_data3['close']\n",
        "plt.plot(x2, y2, label= \"Difference in Price\")\n",
        "plt.plot(x2, y3, label = \"Daily Closing Price\")\n",
        "plt.legend()\n",
        "plt.plot\n",
        "\n",
        "plt.xlabel(\"Time Stamp\")\n",
        "plt.ylabel(\"Price\")\n",
        "plt.title(\"Daily Closing Price in comparison to Difference in Price\")\n"
      ]
    }
  ],
  "metadata": {
    "colab": {
      "provenance": [],
      "include_colab_link": true
    },
    "kernelspec": {
      "display_name": "Python 3",
      "name": "python3"
    },
    "language_info": {
      "name": "python"
    }
  },
  "nbformat": 4,
  "nbformat_minor": 0
}