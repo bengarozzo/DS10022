{
  "nbformat": 4,
  "nbformat_minor": 0,
  "metadata": {
    "colab": {
      "provenance": [],
      "include_colab_link": true
    },
    "kernelspec": {
      "name": "python3",
      "display_name": "Python 3"
    },
    "language_info": {
      "name": "python"
    }
  },
  "cells": [
    {
      "cell_type": "markdown",
      "metadata": {
        "id": "view-in-github",
        "colab_type": "text"
      },
      "source": [
        "<a href=\"https://colab.research.google.com/github/bengarozzo/DS10022/blob/main/Due26Janbengarozzotake2.ipynb\" target=\"_parent\"><img src=\"https://colab.research.google.com/assets/colab-badge.svg\" alt=\"Open In Colab\"/></a>"
      ]
    },
    {
      "cell_type": "markdown",
      "source": [
        "\n",
        "# Assignment due 26 Jan\n",
        "\n",
        "\n",
        "\n",
        "---\n",
        "\n",
        "\n",
        "The main purpose of this assignment is to make sure we are exchanging documents effectively.  Once you have opened this notebook in Colab, try to save it (in Colab) and see what happens.  You will have to make your own copy first.  So, do that.  From now on, you will be editing your own copy of the notebook and you can and should save your own work.\n",
        "\n",
        "When it is complete and you are ready to submit it, save a copy to the GitHub repository that you've shared with me (do this using the File drop-down menu).  **When you save to GitHub, there is a checkbox option to include a link to Colab.**  Do this!\n",
        "\n",
        "Then go to your GitHub repository where you will find the .ipynb file saved.  (You may be taken there automatically.)\n",
        "You will see the document inside a frame that is part of the GitHub page. Click the blue \"Open in Colab\" patch at the top of the document.\n",
        "\n",
        "This will open a new tab with the Colab notebook in it.  At this point you probably have two different tabs with the same Colab notebook.  Compare the two urls in your browser.  The new one will start with colab, but it will also have github in it, and some other information.  (It'll also say \"blob\" somewhere, I think.)  **This is the url you should submit to the Canvas site.**\n",
        "\n",
        "Be careful:  don't submit the url from the original Colab tab that you were working in!  That one also starts with colab but it ends with a string of gibberish.  Make sure you submit the appropriate url.\n",
        "\n",
        "\n",
        "---\n",
        "\n"
      ],
      "metadata": {
        "id": "5uwkFIE_YeQu"
      }
    },
    {
      "cell_type": "markdown",
      "source": [
        "So now, on to the rest of the assignment.\n"
      ],
      "metadata": {
        "id": "1RY0gTutaPJg"
      }
    },
    {
      "cell_type": "markdown",
      "source": [
        "First, add a text box below this line, and in it, tell me whether you've read the syllabus."
      ],
      "metadata": {
        "id": "AqHsqNDqYSu4"
      }
    },
    {
      "cell_type": "markdown",
      "source": [
        "I have read the syllabus."
      ],
      "metadata": {
        "id": "8CiT0FytrLQK"
      }
    },
    {
      "cell_type": "markdown",
      "source": [
        "Next, add a code chunk below this paragraph.  In the code chunk, define a variable with an integer value and another variable with a string value.  (Remember, an integer is a whole number.)\n",
        "Then, write a line of code that prints the square of the integer (the integer times itself).\n",
        "What happens if you try to add the integer and the string together?"
      ],
      "metadata": {
        "id": "JcO1iMUBYcS6"
      }
    },
    {
      "cell_type": "code",
      "source": [
        "myfavorite_number=13\n",
        "string_var=\"theboy\"\n",
        "\n",
        "myfavorite_number**2"
      ],
      "metadata": {
        "colab": {
          "base_uri": "https://localhost:8080/"
        },
        "id": "U1qyUtrFrhap",
        "outputId": "90587491-a09f-4c35-b2ae-8733f404a129"
      },
      "execution_count": 19,
      "outputs": [
        {
          "output_type": "execute_result",
          "data": {
            "text/plain": [
              "169"
            ]
          },
          "metadata": {},
          "execution_count": 19
        }
      ]
    },
    {
      "cell_type": "code",
      "source": [
        "string_var+myfavorite_number ## when you add the two variables it doesn't work."
      ],
      "metadata": {
        "id": "o-UWwE5iYDYu",
        "outputId": "7fd76a04-6dad-4bfc-a50f-f90083925eff",
        "colab": {
          "base_uri": "https://localhost:8080/",
          "height": 179
        }
      },
      "execution_count": 16,
      "outputs": [
        {
          "output_type": "error",
          "ename": "TypeError",
          "evalue": "can only concatenate str (not \"int\") to str",
          "traceback": [
            "\u001b[0;31m---------------------------------------------------------------------------\u001b[0m",
            "\u001b[0;31mTypeError\u001b[0m                                 Traceback (most recent call last)",
            "\u001b[0;32m<ipython-input-16-8cfaabbf7b4d>\u001b[0m in \u001b[0;36m<cell line: 1>\u001b[0;34m()\u001b[0m\n\u001b[0;32m----> 1\u001b[0;31m \u001b[0mstring_var\u001b[0m\u001b[0;34m+\u001b[0m\u001b[0mmyfavorite_number\u001b[0m\u001b[0;34m\u001b[0m\u001b[0;34m\u001b[0m\u001b[0m\n\u001b[0m",
            "\u001b[0;31mTypeError\u001b[0m: can only concatenate str (not \"int\") to str"
          ]
        }
      ]
    },
    {
      "cell_type": "markdown",
      "source": [
        "Finally, in the empty code chunk below, define a new variable whose value is a list with four entries, not all of the same type.\n",
        "\n",
        "Write a line of code that prints out the data type of the final item on your list."
      ],
      "metadata": {
        "id": "kMV9WLhAbIB3"
      }
    },
    {
      "cell_type": "code",
      "source": [
        "my_list_first = [7, \"sport\", 3.14, True]\n",
        "type(my_list_first[3])"
      ],
      "metadata": {
        "id": "gcQdOoY9Ybdu",
        "colab": {
          "base_uri": "https://localhost:8080/"
        },
        "outputId": "b0de76bf-7b43-46e2-afc4-2edcd07069ed"
      },
      "execution_count": 20,
      "outputs": [
        {
          "output_type": "execute_result",
          "data": {
            "text/plain": [
              "bool"
            ]
          },
          "metadata": {},
          "execution_count": 20
        }
      ]
    }
  ]
}